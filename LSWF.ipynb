{
  "nbformat": 4,
  "nbformat_minor": 0,
  "metadata": {
    "colab": {
      "provenance": [],
      "collapsed_sections": []
    },
    "kernelspec": {
      "name": "python3",
      "display_name": "Python 3"
    },
    "language_info": {
      "name": "python"
    },
    "widgets": {
      "application/vnd.jupyter.widget-state+json": {
        "ffa66f1cf2084838b9fa29d39b044b0b": {
          "model_module": "@jupyter-widgets/controls",
          "model_name": "VBoxModel",
          "model_module_version": "1.5.0",
          "state": {
            "_view_name": "VBoxView",
            "_dom_classes": [
              "widget-interact"
            ],
            "_model_name": "VBoxModel",
            "_view_module": "@jupyter-widgets/controls",
            "_model_module_version": "1.5.0",
            "_view_count": null,
            "_view_module_version": "1.5.0",
            "box_style": "",
            "layout": "IPY_MODEL_7389fb4e9c0741338441637669e36cb3",
            "_model_module": "@jupyter-widgets/controls",
            "children": [
              "IPY_MODEL_3e6a31c59d0e4cb883711b310bee711c",
              "IPY_MODEL_902e36e93669490f8622c7c4eedf12fa"
            ]
          }
        },
        "7389fb4e9c0741338441637669e36cb3": {
          "model_module": "@jupyter-widgets/base",
          "model_name": "LayoutModel",
          "model_module_version": "1.2.0",
          "state": {
            "_view_name": "LayoutView",
            "grid_template_rows": null,
            "right": null,
            "justify_content": null,
            "_view_module": "@jupyter-widgets/base",
            "overflow": null,
            "_model_module_version": "1.2.0",
            "_view_count": null,
            "flex_flow": null,
            "width": null,
            "min_width": null,
            "border": null,
            "align_items": null,
            "bottom": null,
            "_model_module": "@jupyter-widgets/base",
            "top": null,
            "grid_column": null,
            "overflow_y": null,
            "overflow_x": null,
            "grid_auto_flow": null,
            "grid_area": null,
            "grid_template_columns": null,
            "flex": null,
            "_model_name": "LayoutModel",
            "justify_items": null,
            "grid_row": null,
            "max_height": null,
            "align_content": null,
            "visibility": null,
            "align_self": null,
            "height": null,
            "min_height": null,
            "padding": null,
            "grid_auto_rows": null,
            "grid_gap": null,
            "max_width": null,
            "order": null,
            "_view_module_version": "1.2.0",
            "grid_template_areas": null,
            "object_position": null,
            "object_fit": null,
            "grid_auto_columns": null,
            "margin": null,
            "display": null,
            "left": null
          }
        },
        "3e6a31c59d0e4cb883711b310bee711c": {
          "model_module": "@jupyter-widgets/controls",
          "model_name": "FloatSliderModel",
          "model_module_version": "1.5.0",
          "state": {
            "_view_name": "FloatSliderView",
            "style": "IPY_MODEL_f4dacbf9bd1c4cd788a0c587a8cafd67",
            "_dom_classes": [],
            "description": "K_rw",
            "step": 0.1,
            "_model_name": "FloatSliderModel",
            "orientation": "horizontal",
            "max": 0.8,
            "_view_module": "@jupyter-widgets/controls",
            "_model_module_version": "1.5.0",
            "value": 0.5,
            "_view_count": null,
            "disabled": false,
            "_view_module_version": "1.5.0",
            "min": 0.2,
            "continuous_update": true,
            "readout_format": ".2f",
            "description_tooltip": null,
            "readout": true,
            "_model_module": "@jupyter-widgets/controls",
            "layout": "IPY_MODEL_d407f49ee9764c69a73ba292a9cc463d"
          }
        },
        "902e36e93669490f8622c7c4eedf12fa": {
          "model_module": "@jupyter-widgets/output",
          "model_name": "OutputModel",
          "model_module_version": "1.0.0",
          "state": {
            "_view_name": "OutputView",
            "msg_id": "",
            "_dom_classes": [],
            "_model_name": "OutputModel",
            "outputs": [],
            "_view_module": "@jupyter-widgets/output",
            "_model_module_version": "1.0.0",
            "_view_count": null,
            "_view_module_version": "1.0.0",
            "layout": "IPY_MODEL_1d3be98b92654c7e82fd23e9f716304b",
            "_model_module": "@jupyter-widgets/output"
          }
        },
        "f4dacbf9bd1c4cd788a0c587a8cafd67": {
          "model_module": "@jupyter-widgets/controls",
          "model_name": "SliderStyleModel",
          "model_module_version": "1.5.0",
          "state": {
            "_view_name": "StyleView",
            "handle_color": null,
            "_model_name": "SliderStyleModel",
            "description_width": "",
            "_view_module": "@jupyter-widgets/base",
            "_model_module_version": "1.5.0",
            "_view_count": null,
            "_view_module_version": "1.2.0",
            "_model_module": "@jupyter-widgets/controls"
          }
        },
        "d407f49ee9764c69a73ba292a9cc463d": {
          "model_module": "@jupyter-widgets/base",
          "model_name": "LayoutModel",
          "model_module_version": "1.2.0",
          "state": {
            "_view_name": "LayoutView",
            "grid_template_rows": null,
            "right": null,
            "justify_content": null,
            "_view_module": "@jupyter-widgets/base",
            "overflow": null,
            "_model_module_version": "1.2.0",
            "_view_count": null,
            "flex_flow": null,
            "width": null,
            "min_width": null,
            "border": null,
            "align_items": null,
            "bottom": null,
            "_model_module": "@jupyter-widgets/base",
            "top": null,
            "grid_column": null,
            "overflow_y": null,
            "overflow_x": null,
            "grid_auto_flow": null,
            "grid_area": null,
            "grid_template_columns": null,
            "flex": null,
            "_model_name": "LayoutModel",
            "justify_items": null,
            "grid_row": null,
            "max_height": null,
            "align_content": null,
            "visibility": null,
            "align_self": null,
            "height": null,
            "min_height": null,
            "padding": null,
            "grid_auto_rows": null,
            "grid_gap": null,
            "max_width": null,
            "order": null,
            "_view_module_version": "1.2.0",
            "grid_template_areas": null,
            "object_position": null,
            "object_fit": null,
            "grid_auto_columns": null,
            "margin": null,
            "display": null,
            "left": null
          }
        },
        "1d3be98b92654c7e82fd23e9f716304b": {
          "model_module": "@jupyter-widgets/base",
          "model_name": "LayoutModel",
          "model_module_version": "1.2.0",
          "state": {
            "_view_name": "LayoutView",
            "grid_template_rows": null,
            "right": null,
            "justify_content": null,
            "_view_module": "@jupyter-widgets/base",
            "overflow": null,
            "_model_module_version": "1.2.0",
            "_view_count": null,
            "flex_flow": null,
            "width": null,
            "min_width": null,
            "border": null,
            "align_items": null,
            "bottom": null,
            "_model_module": "@jupyter-widgets/base",
            "top": null,
            "grid_column": null,
            "overflow_y": null,
            "overflow_x": null,
            "grid_auto_flow": null,
            "grid_area": null,
            "grid_template_columns": null,
            "flex": null,
            "_model_name": "LayoutModel",
            "justify_items": null,
            "grid_row": null,
            "max_height": null,
            "align_content": null,
            "visibility": null,
            "align_self": null,
            "height": null,
            "min_height": null,
            "padding": null,
            "grid_auto_rows": null,
            "grid_gap": null,
            "max_width": null,
            "order": null,
            "_view_module_version": "1.2.0",
            "grid_template_areas": null,
            "object_position": null,
            "object_fit": null,
            "grid_auto_columns": null,
            "margin": null,
            "display": null,
            "left": null
          }
        },
        "18423100d5cc43ba8fb34e93e8f69e3f": {
          "model_module": "@jupyter-widgets/controls",
          "model_name": "VBoxModel",
          "model_module_version": "1.5.0",
          "state": {
            "_view_name": "VBoxView",
            "_dom_classes": [
              "widget-interact"
            ],
            "_model_name": "VBoxModel",
            "_view_module": "@jupyter-widgets/controls",
            "_model_module_version": "1.5.0",
            "_view_count": null,
            "_view_module_version": "1.5.0",
            "box_style": "",
            "layout": "IPY_MODEL_d4ff68431f6f4ccdaf63f8b3cfbb6832",
            "_model_module": "@jupyter-widgets/controls",
            "children": [
              "IPY_MODEL_14fdbaa309274b2b8f7a58b55d01b539",
              "IPY_MODEL_9f1c77f15625495aa3fbd4ef2d6f7100"
            ]
          }
        },
        "d4ff68431f6f4ccdaf63f8b3cfbb6832": {
          "model_module": "@jupyter-widgets/base",
          "model_name": "LayoutModel",
          "model_module_version": "1.2.0",
          "state": {
            "_view_name": "LayoutView",
            "grid_template_rows": null,
            "right": null,
            "justify_content": null,
            "_view_module": "@jupyter-widgets/base",
            "overflow": null,
            "_model_module_version": "1.2.0",
            "_view_count": null,
            "flex_flow": null,
            "width": null,
            "min_width": null,
            "border": null,
            "align_items": null,
            "bottom": null,
            "_model_module": "@jupyter-widgets/base",
            "top": null,
            "grid_column": null,
            "overflow_y": null,
            "overflow_x": null,
            "grid_auto_flow": null,
            "grid_area": null,
            "grid_template_columns": null,
            "flex": null,
            "_model_name": "LayoutModel",
            "justify_items": null,
            "grid_row": null,
            "max_height": null,
            "align_content": null,
            "visibility": null,
            "align_self": null,
            "height": null,
            "min_height": null,
            "padding": null,
            "grid_auto_rows": null,
            "grid_gap": null,
            "max_width": null,
            "order": null,
            "_view_module_version": "1.2.0",
            "grid_template_areas": null,
            "object_position": null,
            "object_fit": null,
            "grid_auto_columns": null,
            "margin": null,
            "display": null,
            "left": null
          }
        },
        "14fdbaa309274b2b8f7a58b55d01b539": {
          "model_module": "@jupyter-widgets/controls",
          "model_name": "FloatSliderModel",
          "model_module_version": "1.5.0",
          "state": {
            "_view_name": "FloatSliderView",
            "style": "IPY_MODEL_5169097b695d4c489c3edc41d38ac160",
            "_dom_classes": [],
            "description": "Swirr",
            "step": 0.1,
            "_model_name": "FloatSliderModel",
            "orientation": "horizontal",
            "max": 0.2,
            "_view_module": "@jupyter-widgets/controls",
            "_model_module_version": "1.5.0",
            "value": 0.1,
            "_view_count": null,
            "disabled": false,
            "_view_module_version": "1.5.0",
            "min": 0,
            "continuous_update": true,
            "readout_format": ".2f",
            "description_tooltip": null,
            "readout": true,
            "_model_module": "@jupyter-widgets/controls",
            "layout": "IPY_MODEL_b3de3d1f80c14767800816b19411e1f7"
          }
        },
        "9f1c77f15625495aa3fbd4ef2d6f7100": {
          "model_module": "@jupyter-widgets/output",
          "model_name": "OutputModel",
          "model_module_version": "1.0.0",
          "state": {
            "_view_name": "OutputView",
            "msg_id": "",
            "_dom_classes": [],
            "_model_name": "OutputModel",
            "outputs": [],
            "_view_module": "@jupyter-widgets/output",
            "_model_module_version": "1.0.0",
            "_view_count": null,
            "_view_module_version": "1.0.0",
            "layout": "IPY_MODEL_85d1704e211d4c0597d5bbcf1b8492a3",
            "_model_module": "@jupyter-widgets/output"
          }
        },
        "5169097b695d4c489c3edc41d38ac160": {
          "model_module": "@jupyter-widgets/controls",
          "model_name": "SliderStyleModel",
          "model_module_version": "1.5.0",
          "state": {
            "_view_name": "StyleView",
            "handle_color": null,
            "_model_name": "SliderStyleModel",
            "description_width": "",
            "_view_module": "@jupyter-widgets/base",
            "_model_module_version": "1.5.0",
            "_view_count": null,
            "_view_module_version": "1.2.0",
            "_model_module": "@jupyter-widgets/controls"
          }
        },
        "b3de3d1f80c14767800816b19411e1f7": {
          "model_module": "@jupyter-widgets/base",
          "model_name": "LayoutModel",
          "model_module_version": "1.2.0",
          "state": {
            "_view_name": "LayoutView",
            "grid_template_rows": null,
            "right": null,
            "justify_content": null,
            "_view_module": "@jupyter-widgets/base",
            "overflow": null,
            "_model_module_version": "1.2.0",
            "_view_count": null,
            "flex_flow": null,
            "width": null,
            "min_width": null,
            "border": null,
            "align_items": null,
            "bottom": null,
            "_model_module": "@jupyter-widgets/base",
            "top": null,
            "grid_column": null,
            "overflow_y": null,
            "overflow_x": null,
            "grid_auto_flow": null,
            "grid_area": null,
            "grid_template_columns": null,
            "flex": null,
            "_model_name": "LayoutModel",
            "justify_items": null,
            "grid_row": null,
            "max_height": null,
            "align_content": null,
            "visibility": null,
            "align_self": null,
            "height": null,
            "min_height": null,
            "padding": null,
            "grid_auto_rows": null,
            "grid_gap": null,
            "max_width": null,
            "order": null,
            "_view_module_version": "1.2.0",
            "grid_template_areas": null,
            "object_position": null,
            "object_fit": null,
            "grid_auto_columns": null,
            "margin": null,
            "display": null,
            "left": null
          }
        },
        "85d1704e211d4c0597d5bbcf1b8492a3": {
          "model_module": "@jupyter-widgets/base",
          "model_name": "LayoutModel",
          "model_module_version": "1.2.0",
          "state": {
            "_view_name": "LayoutView",
            "grid_template_rows": null,
            "right": null,
            "justify_content": null,
            "_view_module": "@jupyter-widgets/base",
            "overflow": null,
            "_model_module_version": "1.2.0",
            "_view_count": null,
            "flex_flow": null,
            "width": null,
            "min_width": null,
            "border": null,
            "align_items": null,
            "bottom": null,
            "_model_module": "@jupyter-widgets/base",
            "top": null,
            "grid_column": null,
            "overflow_y": null,
            "overflow_x": null,
            "grid_auto_flow": null,
            "grid_area": null,
            "grid_template_columns": null,
            "flex": null,
            "_model_name": "LayoutModel",
            "justify_items": null,
            "grid_row": null,
            "max_height": null,
            "align_content": null,
            "visibility": null,
            "align_self": null,
            "height": null,
            "min_height": null,
            "padding": null,
            "grid_auto_rows": null,
            "grid_gap": null,
            "max_width": null,
            "order": null,
            "_view_module_version": "1.2.0",
            "grid_template_areas": null,
            "object_position": null,
            "object_fit": null,
            "grid_auto_columns": null,
            "margin": null,
            "display": null,
            "left": null
          }
        }
      }
    }
  },
  "cells": [
    {
      "cell_type": "code",
      "metadata": {
        "id": "yppjicNmWOO-"
      },
      "source": [
        "import matplotlib.pyplot as plt\n",
        "import numpy as np\n",
        "import pandas as pd"
      ],
      "execution_count": null,
      "outputs": []
    },
    {
      "cell_type": "code",
      "metadata": {
        "colab": {
          "base_uri": "https://localhost:8080/",
          "height": 206
        },
        "id": "VIpdIjJQfGFW",
        "outputId": "d3d7f9ca-cc7f-4935-e152-b719f4a0a26f"
      },
      "source": [
        "df1 = pd.read_excel(\"/content/drive/MyDrive/Project Requirements/Datasets/BTP/Book1.xlsx\")\n",
        "df1.head()"
      ],
      "execution_count": null,
      "outputs": [
        {
          "output_type": "execute_result",
          "data": {
            "text/html": [
              "<div>\n",
              "<style scoped>\n",
              "    .dataframe tbody tr th:only-of-type {\n",
              "        vertical-align: middle;\n",
              "    }\n",
              "\n",
              "    .dataframe tbody tr th {\n",
              "        vertical-align: top;\n",
              "    }\n",
              "\n",
              "    .dataframe thead th {\n",
              "        text-align: right;\n",
              "    }\n",
              "</style>\n",
              "<table border=\"1\" class=\"dataframe\">\n",
              "  <thead>\n",
              "    <tr style=\"text-align: right;\">\n",
              "      <th></th>\n",
              "      <th>Avg_So</th>\n",
              "      <th>PV</th>\n",
              "    </tr>\n",
              "  </thead>\n",
              "  <tbody>\n",
              "    <tr>\n",
              "      <th>0</th>\n",
              "      <td>0.270</td>\n",
              "      <td>0</td>\n",
              "    </tr>\n",
              "    <tr>\n",
              "      <th>1</th>\n",
              "      <td>0.245</td>\n",
              "      <td>3</td>\n",
              "    </tr>\n",
              "    <tr>\n",
              "      <th>2</th>\n",
              "      <td>0.241</td>\n",
              "      <td>6</td>\n",
              "    </tr>\n",
              "    <tr>\n",
              "      <th>3</th>\n",
              "      <td>0.240</td>\n",
              "      <td>9</td>\n",
              "    </tr>\n",
              "    <tr>\n",
              "      <th>4</th>\n",
              "      <td>0.235</td>\n",
              "      <td>12</td>\n",
              "    </tr>\n",
              "  </tbody>\n",
              "</table>\n",
              "</div>"
            ],
            "text/plain": [
              "   Avg_So  PV\n",
              "0   0.270   0\n",
              "1   0.245   3\n",
              "2   0.241   6\n",
              "3   0.240   9\n",
              "4   0.235  12"
            ]
          },
          "metadata": {},
          "execution_count": 2
        }
      ]
    },
    {
      "cell_type": "code",
      "metadata": {
        "colab": {
          "base_uri": "https://localhost:8080/",
          "height": 501
        },
        "id": "b-NOoAkgg-1X",
        "outputId": "736c38ad-dcd1-4c40-92ef-f8a759a9e71f"
      },
      "source": [
        "plt.figure(figsize = (20,8))\n",
        "plt.plot(df1.PV, df1.Avg_So, 'go--', linewidth=2, markersize=6, label='Average Oil Remaining Saturation')\n",
        "plt.axvline(x=9, label='FW')\n",
        "plt.axvline(x=19, label='SW', color=\"black\")\n",
        "plt.axvline(x=28, label='LSW1', color='red')\n",
        "plt.axvline(x=39, label='LSW2', color='red')\n",
        "plt.xlabel(\"PV\",fontsize=14)\n",
        "plt.ylabel(\"S(o)\", fontsize=14)\n",
        "plt.legend()\n",
        "plt.grid(True)"
      ],
      "execution_count": null,
      "outputs": [
        {
          "output_type": "display_data",
          "data": {
            "image/png": "[encoded data removed]",
            "text/plain": [
              "<Figure size 1440x576 with 1 Axes>"
            ]
          },
          "metadata": {
            "needs_background": "light"
          }
        }
      ]
    },
    {
      "cell_type": "markdown",
      "metadata": {
        "id": "vvK_bdeYtxvB"
      },
      "source": [
        "2"
      ]
    },
    {
      "cell_type": "code",
      "metadata": {
        "id": "u8tdAio9JHrB"
      },
      "source": [
        "from ipywidgets import interact, interactive\n",
        "from IPython.display import clear_output, display, HTML"
      ],
      "execution_count": null,
      "outputs": []
    },
    {
      "cell_type": "code",
      "metadata": {
        "id": "IszlLOjos45C"
      },
      "source": [
        "def var2(K_rw):\n",
        "  Mu_w = 1\n",
        "  Mu_o = 20\n",
        "  K_ro = np.linspace(0.2,0.8,500)\n",
        "  Lambda_o = K_ro/Mu_o\n",
        "  Lambda_w = K_rw/Mu_w\n",
        "  F_o = Lambda_o/(Lambda_o + Lambda_w)\n",
        "  plt.figure(figsize = (20,8))\n",
        "  plt.plot(K_ro, F_o, linewidth=4)\n",
        " \n",
        "  y_max = F_o[np.where(K_ro == 0.8)]\n",
        "  plt.axhline(y_max,linewidth=2,color='red')\n",
        "  plt.ylim(0,0.25)\n",
        "\n",
        "  plt.xlabel('Relative Oil Permeability')\n",
        "  plt.ylabel('Oil fractional flow')\n",
        "\n",
        "  plt.title('Flow Profile')\n",
        "  plt.grid(True)\n",
        "  return K_ro,F_o"
      ],
      "execution_count": null,
      "outputs": []
    },
    {
      "cell_type": "code",
      "metadata": {
        "colab": {
          "base_uri": "https://localhost:8080/",
          "height": 545,
          "referenced_widgets": [
            "ffa66f1cf2084838b9fa29d39b044b0b",
            "7389fb4e9c0741338441637669e36cb3",
            "3e6a31c59d0e4cb883711b310bee711c",
            "902e36e93669490f8622c7c4eedf12fa",
            "f4dacbf9bd1c4cd788a0c587a8cafd67",
            "d407f49ee9764c69a73ba292a9cc463d",
            "1d3be98b92654c7e82fd23e9f716304b"
          ]
        },
        "id": "C_agTgbDLcbo",
        "outputId": "cabf6faf-01ba-4840-f1ac-aa23b798982e"
      },
      "source": [
        "w = interactive(var2, K_rw = (0.2,0.8) )\n",
        "display(w)"
      ],
      "execution_count": null,
      "outputs": [
        {
          "output_type": "display_data",
          "data": {
            "application/vnd.jupyter.widget-view+json": {
              "model_id": "ffa66f1cf2084838b9fa29d39b044b0b",
              "version_minor": 0,
              "version_major": 2
            },
            "text/plain": [
              "interactive(children=(FloatSlider(value=0.5, description='K_rw', max=0.8, min=0.2), Output()), _dom_classes=('…"
            ]
          },
          "metadata": {}
        }
      ]
    },
    {
      "cell_type": "markdown",
      "metadata": {
        "id": "4MzgRwWieSHn"
      },
      "source": [
        "3"
      ]
    },
    {
      "cell_type": "code",
      "metadata": {
        "id": "dG58zUKyeRvG"
      },
      "source": [
        "def var3(Swirr, u_o):\n",
        "  u_w = 1\n",
        "  Sw = np.linspace(0.2,0.9,500)\n",
        "  So = 1-Sw\n",
        "  So_ = So/(1-Swirr)\n",
        "  Sw_ = (Sw-Swirr)/(1-Swirr)\n",
        "  #Wyllie – Gardner Correlations\n",
        "  Krw = (So_)**4\n",
        "  Kro = ((1-So_)**2)/(1-(Sw_**2))\n",
        "  ##\n",
        "  Fw = 1/(1+((Kro*u_w)/(Krw*u_o)))  \n",
        "  plt.figure(figsize = (20,8))\n",
        "  plt.plot(Sw, Fw, linewidth=4, color='blue')\n",
        "  plt.plot(So, Fw, linewidth=4, color='orange')\n",
        "\n",
        "  plt.xlabel('Saturation Sw/So')\n",
        "  plt.ylabel('Frational flow')\n",
        "\n",
        "  plt.title('Flow Profile')\n",
        "  plt.grid(True)\n",
        "  return Sw,Fw"
      ],
      "execution_count": null,
      "outputs": []
    },
    {
      "cell_type": "code",
      "metadata": {
        "id": "pRd7JzIYj2I1"
      },
      "source": [
        "x = interactive(var3, Swirr = (0,0.2), u_o = (0,40) )\n",
        "display(x)"
      ],
      "execution_count": null,
      "outputs": []
    },
    {
      "cell_type": "code",
      "metadata": {
        "colab": {
          "base_uri": "https://localhost:8080/",
          "height": 545,
          "referenced_widgets": [
            "18423100d5cc43ba8fb34e93e8f69e3f",
            "d4ff68431f6f4ccdaf63f8b3cfbb6832",
            "14fdbaa309274b2b8f7a58b55d01b539",
            "9f1c77f15625495aa3fbd4ef2d6f7100",
            "5169097b695d4c489c3edc41d38ac160",
            "b3de3d1f80c14767800816b19411e1f7",
            "85d1704e211d4c0597d5bbcf1b8492a3"
          ]
        },
        "id": "OKlm9MkXvtMZ",
        "outputId": "a99d4c7d-6ca6-4126-a45b-c2df6498de02"
      },
      "source": [
        "def var4(Swirr):\n",
        "  u_w = 1\n",
        "  Sw = np.linspace(0.2,0.73,500)\n",
        "  So = 1-Sw\n",
        "  So_ = So/(1-Swirr)\n",
        "  Sw_ = (Sw-Swirr)/(1-Swirr)\n",
        "  Krw = (So_)**4\n",
        "  Kro = ((1-So_)**2)/(1-(Sw_**2))\n",
        "  plt.figure(figsize = (20,8))\n",
        "  plt.plot(Sw, Kro, linewidth=4, color='orange')\n",
        "  plt.plot(Sw, Krw, linewidth=4, color='blue')\n",
        "  \n",
        "\n",
        "  plt.xlabel('Water Saturation Sw')\n",
        "  plt.ylabel('Relative Permeability')\n",
        "\n",
        "  plt.title('Flow Profile')\n",
        "  plt.grid(True)\n",
        "  return Sw,Kro\n",
        "\n",
        "display(interactive(var4, Swirr = (0,0.2) ))\n"
      ],
      "execution_count": null,
      "outputs": [
        {
          "output_type": "display_data",
          "data": {
            "application/vnd.jupyter.widget-view+json": {
              "model_id": "18423100d5cc43ba8fb34e93e8f69e3f",
              "version_minor": 0,
              "version_major": 2
            },
            "text/plain": [
              "interactive(children=(FloatSlider(value=0.1, description='Swirr', max=0.2), Output()), _dom_classes=('widget-i…"
            ]
          },
          "metadata": {}
        }
      ]
    },
    {
      "cell_type": "markdown",
      "metadata": {
        "id": "GOd98QjeaH1S"
      },
      "source": [
        "4"
      ]
    },
    {
      "cell_type": "code",
      "metadata": {
        "colab": {
          "base_uri": "https://localhost:8080/",
          "height": 206
        },
        "id": "3hyhRRVsaI_N",
        "outputId": "c6645d3c-1401-4e1f-d937-895d85c4a68f"
      },
      "source": [
        "df2 = pd.read_excel(\"/content/drive/MyDrive/Project Requirements/Datasets/BTP/Book2.xlsx\")\n",
        "df2.head()"
      ],
      "execution_count": null,
      "outputs": [
        {
          "output_type": "execute_result",
          "data": {
            "text/html": [
              "<div>\n",
              "<style scoped>\n",
              "    .dataframe tbody tr th:only-of-type {\n",
              "        vertical-align: middle;\n",
              "    }\n",
              "\n",
              "    .dataframe tbody tr th {\n",
              "        vertical-align: top;\n",
              "    }\n",
              "\n",
              "    .dataframe thead th {\n",
              "        text-align: right;\n",
              "    }\n",
              "</style>\n",
              "<table border=\"1\" class=\"dataframe\">\n",
              "  <thead>\n",
              "    <tr style=\"text-align: right;\">\n",
              "      <th></th>\n",
              "      <th>Core_No</th>\n",
              "      <th>brine</th>\n",
              "      <th>IOIP</th>\n",
              "    </tr>\n",
              "  </thead>\n",
              "  <tbody>\n",
              "    <tr>\n",
              "      <th>0</th>\n",
              "      <td>1</td>\n",
              "      <td>FW2</td>\n",
              "      <td>83.06</td>\n",
              "    </tr>\n",
              "    <tr>\n",
              "      <th>1</th>\n",
              "      <td>1</td>\n",
              "      <td>FW3</td>\n",
              "      <td>89.60</td>\n",
              "    </tr>\n",
              "    <tr>\n",
              "      <th>2</th>\n",
              "      <td>1</td>\n",
              "      <td>LS5</td>\n",
              "      <td>92.28</td>\n",
              "    </tr>\n",
              "    <tr>\n",
              "      <th>3</th>\n",
              "      <td>1</td>\n",
              "      <td>LS6</td>\n",
              "      <td>94.21</td>\n",
              "    </tr>\n",
              "    <tr>\n",
              "      <th>4</th>\n",
              "      <td>1</td>\n",
              "      <td>LS6</td>\n",
              "      <td>94.21</td>\n",
              "    </tr>\n",
              "  </tbody>\n",
              "</table>\n",
              "</div>"
            ],
            "text/plain": [
              "   Core_No brine   IOIP\n",
              "0        1   FW2  83.06\n",
              "1        1   FW3  89.60\n",
              "2        1   LS5  92.28\n",
              "3        1   LS6  94.21\n",
              "4        1   LS6  94.21"
            ]
          },
          "metadata": {},
          "execution_count": 10
        }
      ]
    },
    {
      "cell_type": "code",
      "metadata": {
        "colab": {
          "base_uri": "https://localhost:8080/",
          "height": 394
        },
        "id": "lbzssxtSajsz",
        "outputId": "eed93a31-f760-4e18-8fed-3b38eab261cb"
      },
      "source": [
        "import seaborn as sns\n",
        "sns.set_theme(style=\"whitegrid\")\n",
        "\n",
        "plt.figure(figsize = (20,6))\n",
        "ax = sns.barplot(x=df2.brine, y=df2.IOIP, hue=df2.Core_No, data=df2, estimator=np.mean, order=[\"FW1\", \"FW2\", \"FW3\", \"LS1\", \"LS2\", \"LS3\", \"LS4\", \"LS5\", \"LS6\"])"
      ],
      "execution_count": null,
      "outputs": [
        {
          "output_type": "display_data",
          "data": {
            "image/png": "[encoded data removed]",
            "text/plain": [
              "<Figure size 1440x432 with 1 Axes>"
            ]
          },
          "metadata": {}
        }
      ]
    }
  ]
}